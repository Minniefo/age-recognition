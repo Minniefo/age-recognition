{
 "cells": [
  {
   "cell_type": "markdown",
   "id": "18f49e21-7be8-4f15-9a88-6117d67f2b02",
   "metadata": {},
   "source": [
    "## Install the dependencies"
   ]
  },
  {
   "cell_type": "code",
   "execution_count": 3,
   "id": "877ce397-16c0-4420-8a46-253b35e48a8a",
   "metadata": {},
   "outputs": [
    {
     "name": "stdout",
     "output_type": "stream",
     "text": [
      "Collecting opencv-python\n",
      "  Using cached opencv_python-4.10.0.84-cp37-abi3-macosx_11_0_arm64.whl.metadata (20 kB)\n",
      "Collecting opencv-contrib-python\n",
      "  Using cached opencv_contrib_python-4.10.0.84-cp37-abi3-macosx_11_0_arm64.whl.metadata (20 kB)\n",
      "Collecting numpy\n",
      "  Using cached numpy-2.1.2-cp312-cp312-macosx_14_0_arm64.whl.metadata (60 kB)\n",
      "Using cached opencv_python-4.10.0.84-cp37-abi3-macosx_11_0_arm64.whl (54.8 MB)\n",
      "Using cached opencv_contrib_python-4.10.0.84-cp37-abi3-macosx_11_0_arm64.whl (63.7 MB)\n",
      "Using cached numpy-2.1.2-cp312-cp312-macosx_14_0_arm64.whl (5.1 MB)\n",
      "Installing collected packages: numpy, opencv-python, opencv-contrib-python\n",
      "Successfully installed numpy-2.1.2 opencv-contrib-python-4.10.0.84 opencv-python-4.10.0.84\n"
     ]
    }
   ],
   "source": [
    "!pip install opencv-python opencv-contrib-python numpy\n"
   ]
  },
  {
   "cell_type": "code",
   "execution_count": 4,
   "id": "43e12245-a1de-4680-8b6a-20f10884c9b7",
   "metadata": {},
   "outputs": [
    {
     "name": "stderr",
     "output_type": "stream",
     "text": [
      "2024-10-20 12:56:14.437 python[92657:7905516] WARNING: AVCaptureDeviceTypeExternal is deprecated for Continuity Cameras. Please use AVCaptureDeviceTypeContinuityCamera and add NSCameraUseContinuityCameraDeviceType to your Info.plist.\n"
     ]
    }
   ],
   "source": [
    "import cv2\n",
    "import numpy as np\n",
    "\n",
    "# Load face detection model (Haar Cascade)\n",
    "face_cascade = cv2.CascadeClassifier('project/haarcascade_frontalface_default.xml')\n",
    "\n",
    "# Load the pre-trained models for age and gender\n",
    "gender_net = cv2.dnn.readNetFromCaffe('project/gender_deploy.prototxt', 'project/gender_net.caffemodel')\n",
    "age_net = cv2.dnn.readNetFromCaffe('project/age_deploy.prototxt', 'project/age_net.caffemodel')\n",
    "\n",
    "# Define the age and gender classes\n",
    "age_list = ['(0-2)', '(4-6)', '(8-12)', '(15-20)', '(20-30)', '(38-43)', '(48-53)', '(60-100)']\n",
    "gender_list = ['Male', 'Female']\n",
    "\n",
    "# Function to detect faces\n",
    "def detect_faces(frame):\n",
    "    gray = cv2.cvtColor(frame, cv2.COLOR_BGR2GRAY)\n",
    "    faces = face_cascade.detectMultiScale(gray, scaleFactor=1.3, minNeighbors=5)\n",
    "    return faces\n",
    "\n",
    "# Function to get predictions for age and gender\n",
    "def predict_age_gender(face_img):\n",
    "    # Prepare the face for age and gender prediction\n",
    "    blob = cv2.dnn.blobFromImage(face_img, 1.0, (227, 227), (104.0, 177.0, 123.0), swapRB=False)\n",
    "    \n",
    "    # Predict gender\n",
    "    gender_net.setInput(blob)\n",
    "    gender_preds = gender_net.forward()\n",
    "    gender = gender_list[gender_preds[0].argmax()]\n",
    "\n",
    "    # Predict age\n",
    "    age_net.setInput(blob)\n",
    "    age_preds = age_net.forward()\n",
    "    age = age_list[age_preds[0].argmax()]\n",
    "    \n",
    "    return gender, age\n",
    "\n",
    "# Initialize webcam video capture\n",
    "cap = cv2.VideoCapture(0)\n",
    "\n",
    "while True:\n",
    "    ret, frame = cap.read()\n",
    "    if not ret:\n",
    "        break\n",
    "    \n",
    "    # Detect faces in the frame\n",
    "    faces = detect_faces(frame)\n",
    "\n",
    "    for (x, y, w, h) in faces:\n",
    "        # Extract the face region of interest (ROI)\n",
    "        face_img = frame[y:y+h, x:x+w]\n",
    "        \n",
    "        # Predict age and gender\n",
    "        gender, age = predict_age_gender(face_img)\n",
    "        \n",
    "        # Display the predictions\n",
    "        label = f\"{gender}, {age}\"\n",
    "        cv2.putText(frame, label, (x, y-10), cv2.FONT_HERSHEY_COMPLEX, 1.0, (255, 255, 255), 2)\n",
    "        cv2.rectangle(frame, (x, y), (x+w, y+h), (0, 255, 0), 2)\n",
    "\n",
    "    # Display the output frame\n",
    "    cv2.imshow('Age and Gender Detection', frame)\n",
    "    \n",
    "    # Break the loop if the user presses 'q'\n",
    "    if cv2.waitKey(1) & 0xFF == ord('q'):\n",
    "        break\n",
    "\n",
    "# Release the webcam and close all windows\n",
    "cap.release()\n",
    "cv2.destroyAllWindows()\n"
   ]
  },
  {
   "cell_type": "code",
   "execution_count": null,
   "id": "f28390fd-315b-4761-938e-b3b4c44bbbdf",
   "metadata": {},
   "outputs": [],
   "source": []
  },
  {
   "cell_type": "code",
   "execution_count": null,
   "id": "adf8a01c-e286-4b1f-b92c-c33b7d9b7b9b",
   "metadata": {},
   "outputs": [],
   "source": []
  }
 ],
 "metadata": {
  "kernelspec": {
   "display_name": "env",
   "language": "python",
   "name": "env"
  },
  "language_info": {
   "codemirror_mode": {
    "name": "ipython",
    "version": 3
   },
   "file_extension": ".py",
   "mimetype": "text/x-python",
   "name": "python",
   "nbconvert_exporter": "python",
   "pygments_lexer": "ipython3",
   "version": "3.12.4"
  }
 },
 "nbformat": 4,
 "nbformat_minor": 5
}
